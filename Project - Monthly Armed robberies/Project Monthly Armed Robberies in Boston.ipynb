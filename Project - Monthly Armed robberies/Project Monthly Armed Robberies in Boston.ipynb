{
 "cells": [
  {
   "cell_type": "markdown",
   "id": "4d659745",
   "metadata": {},
   "source": [
    "#### Problem Description:\n",
    "\n",
    "The problem is to predict number of monthly armed robberies in Boston,USA\n",
    "\n"
   ]
  },
  {
   "cell_type": "markdown",
   "id": "926c76d3",
   "metadata": {},
   "source": [
    "#### Asumptions:\n",
    "\n",
    "     - Dataset is not current\n",
    "     - We cannot easily collect updated data to valudare the model\n",
    "     - We pretend that it is  Oct 1974 and withold the last one year od data from analysis and model selection\n",
    "     "
   ]
  },
  {
   "cell_type": "code",
   "execution_count": 43,
   "id": "7fac07a2",
   "metadata": {},
   "outputs": [],
   "source": [
    "# importing required modules\n",
    "import numpy as np\n",
    "import pandas as pd\n",
    "import matplotlib.pyplot as plt\n",
    "from datetime import datetime\n",
    "from sklearn.metrics import mean_squared_error\n",
    "from math import sqrt\n",
    "import seaborn as sns\n",
    "from statsmodels.tsa.stattools import adfuller\n",
    "from statsmodels.tsa.arima_model import ARIMA,ARIMAResults\n",
    "from statsmodels.graphics.tsaplots import plot_acf,plot_pacf\n",
    "import warnings\n",
    "warnings.filterwarnings(\"ignore\")"
   ]
  },
  {
   "cell_type": "code",
   "execution_count": 2,
   "id": "da6fb504",
   "metadata": {},
   "outputs": [],
   "source": [
    "#Load data set\n",
    "series = pd.read_csv('monthly-robberies.csv',header=0,index_col=0,parse_dates=True,squeeze=True) "
   ]
  },
  {
   "cell_type": "code",
   "execution_count": 3,
   "id": "91ce6b70",
   "metadata": {},
   "outputs": [
    {
     "name": "stdout",
     "output_type": "stream",
     "text": [
      "Dataset 106, Validation 12\n"
     ]
    }
   ],
   "source": [
    "#splitting into a traning and validation dataset\n",
    "split_point = len(series)-12\n",
    "\n",
    "dataset,validation = series[0:split_point],series[split_point:]\n",
    "print('Dataset %d, Validation %d'%(len(dataset),len(validation)))\n",
    "dataset.to_csv('dataset.csv',header=False)\n",
    "validation.to_csv('validation.csv',header=False)\n",
    "\n"
   ]
  },
  {
   "cell_type": "markdown",
   "id": "532ce9e9",
   "metadata": {},
   "source": [
    "###### Contents of the file\n",
    "\n",
    "- dataset.csv : Obervation from Jan 1966 to Oct 1974 (106 Observations)\n",
    "- validation.csv : Observation from Nov 1974 to Oct 1975 (12 observation)\n"
   ]
  },
  {
   "cell_type": "markdown",
   "id": "6a0a89c1",
   "metadata": {},
   "source": [
    "Test Strategy:\n",
    "    - Candidate model will be evaluated using walk forward validation. This is beacuse a rolling forecast type model is required from problem definition. The model works as follows\n",
    "    \n",
    "    1) 50% of the dataset will be held back to train the model\n",
    "    2) Remaining 50% of the dataset will be iterated and test the model\n",
    "    3) For each step in the test dataset:\n",
    "        a) A model will be trained\n",
    "        b) A one-step prediction is made and the prediction is stored for later evaluation\n",
    "        c) The actual observation from the test dataset will be added to the training dataset for the next  \n",
    "            iteration\n",
    "    4) Predictions made during the iteration of the test dataset will be evaluated and an RMSE score is reported\n",
    "        \n",
    "        "
   ]
  },
  {
   "cell_type": "code",
   "execution_count": 10,
   "id": "177cbabb",
   "metadata": {},
   "outputs": [],
   "source": [
    "#prepare the data\n",
    "x = series.values\n",
    "x = x.astype('float32')\n",
    "train_size = int(len(x)*0.5)\n",
    "train,test = x[0:train_size],x[train_size:]"
   ]
  },
  {
   "cell_type": "markdown",
   "id": "22a1ae5c",
   "metadata": {},
   "source": [
    "#### Persistence\n",
    "\n",
    "- First step getting bogged down in data analysis and modelling is to establish a baseline of performance. This\n",
    "  will provide both a template for evaluation models using the proposed test harness and a performance measure by \n",
    "  which all more elaborate predictive models can be compared.\n",
    "\n",
    "- This baseline prediction for time series forcasting is called naive forecasting"
   ]
  },
  {
   "cell_type": "code",
   "execution_count": 37,
   "id": "6bf19a4d",
   "metadata": {},
   "outputs": [],
   "source": [
    "#load data\n",
    "series = pd.read_csv('dataset.csv',index_col=0,parse_dates=True)\n",
    "#prepare the data\n",
    "x = series.values\n",
    "x = x.astype('float32')\n",
    "train_size = int(len(x)*0.5)\n",
    "train,test = x[0:train_size],x[train_size:]"
   ]
  },
  {
   "cell_type": "code",
   "execution_count": 38,
   "id": "4271ae19",
   "metadata": {},
   "outputs": [
    {
     "name": "stdout",
     "output_type": "stream",
     "text": [
      "Predicted = 98.000,Expected = 125.000\n",
      "Predicted = 125.000,Expected = 155.000\n",
      "Predicted = 155.000,Expected = 190.000\n",
      "Predicted = 190.000,Expected = 236.000\n",
      "Predicted = 236.000,Expected = 189.000\n",
      "Predicted = 189.000,Expected = 174.000\n",
      "Predicted = 174.000,Expected = 178.000\n",
      "Predicted = 178.000,Expected = 136.000\n",
      "Predicted = 136.000,Expected = 161.000\n",
      "Predicted = 161.000,Expected = 171.000\n",
      "Predicted = 171.000,Expected = 149.000\n",
      "Predicted = 149.000,Expected = 184.000\n",
      "Predicted = 184.000,Expected = 155.000\n",
      "Predicted = 155.000,Expected = 276.000\n",
      "Predicted = 276.000,Expected = 224.000\n",
      "Predicted = 224.000,Expected = 213.000\n",
      "Predicted = 213.000,Expected = 279.000\n",
      "Predicted = 279.000,Expected = 268.000\n",
      "Predicted = 268.000,Expected = 287.000\n",
      "Predicted = 287.000,Expected = 238.000\n",
      "Predicted = 238.000,Expected = 213.000\n",
      "Predicted = 213.000,Expected = 257.000\n",
      "Predicted = 257.000,Expected = 293.000\n",
      "Predicted = 293.000,Expected = 212.000\n",
      "Predicted = 212.000,Expected = 246.000\n",
      "Predicted = 246.000,Expected = 353.000\n",
      "Predicted = 353.000,Expected = 339.000\n",
      "Predicted = 339.000,Expected = 308.000\n",
      "Predicted = 308.000,Expected = 247.000\n",
      "Predicted = 247.000,Expected = 257.000\n",
      "Predicted = 257.000,Expected = 322.000\n",
      "Predicted = 322.000,Expected = 298.000\n",
      "Predicted = 298.000,Expected = 273.000\n",
      "Predicted = 273.000,Expected = 312.000\n",
      "Predicted = 312.000,Expected = 249.000\n",
      "Predicted = 249.000,Expected = 286.000\n",
      "Predicted = 286.000,Expected = 279.000\n",
      "Predicted = 279.000,Expected = 309.000\n",
      "Predicted = 309.000,Expected = 401.000\n",
      "Predicted = 401.000,Expected = 309.000\n",
      "Predicted = 309.000,Expected = 328.000\n",
      "Predicted = 328.000,Expected = 353.000\n",
      "Predicted = 353.000,Expected = 354.000\n",
      "Predicted = 354.000,Expected = 327.000\n",
      "Predicted = 327.000,Expected = 324.000\n",
      "Predicted = 324.000,Expected = 285.000\n",
      "Predicted = 285.000,Expected = 243.000\n",
      "Predicted = 243.000,Expected = 241.000\n",
      "Predicted = 241.000,Expected = 287.000\n",
      "Predicted = 287.000,Expected = 355.000\n",
      "Predicted = 355.000,Expected = 460.000\n",
      "Predicted = 460.000,Expected = 364.000\n",
      "Predicted = 364.000,Expected = 487.000\n",
      "RMSE: 51.844\n"
     ]
    }
   ],
   "source": [
    "# walk forward validation\n",
    "history = [x for x in train]\n",
    "prediction = []\n",
    "for t in range(len(test)):\n",
    "    yhat = history[-1]\n",
    "    history.append(test[t])\n",
    "    prediction.append(yhat)\n",
    "    print(\"Predicted = %.3f,Expected = %.3f\"%(yhat,test[t]))\n",
    "\n",
    "#report performance\n",
    "rmse = sqrt(mean_squared_error(test,prediction))\n",
    "print('RMSE: %.3f'%rmse)"
   ]
  },
  {
   "cell_type": "markdown",
   "id": "64fdbd1f",
   "metadata": {},
   "source": [
    "Note: We can see that persistance model achieved an RMS of 51.844. This mean on avergae, the model was wrong by 51 robberies"
   ]
  },
  {
   "cell_type": "markdown",
   "id": "42028c49",
   "metadata": {},
   "source": [
    "#### Data Analysis"
   ]
  },
  {
   "cell_type": "code",
   "execution_count": 40,
   "id": "06e5b524",
   "metadata": {},
   "outputs": [
    {
     "data": {
      "text/html": [
       "<div>\n",
       "<style scoped>\n",
       "    .dataframe tbody tr th:only-of-type {\n",
       "        vertical-align: middle;\n",
       "    }\n",
       "\n",
       "    .dataframe tbody tr th {\n",
       "        vertical-align: top;\n",
       "    }\n",
       "\n",
       "    .dataframe thead th {\n",
       "        text-align: right;\n",
       "    }\n",
       "</style>\n",
       "<table border=\"1\" class=\"dataframe\">\n",
       "  <thead>\n",
       "    <tr style=\"text-align: right;\">\n",
       "      <th></th>\n",
       "      <th>41</th>\n",
       "    </tr>\n",
       "  </thead>\n",
       "  <tbody>\n",
       "    <tr>\n",
       "      <th>count</th>\n",
       "      <td>105.000000</td>\n",
       "    </tr>\n",
       "    <tr>\n",
       "      <th>mean</th>\n",
       "      <td>174.361905</td>\n",
       "    </tr>\n",
       "    <tr>\n",
       "      <th>std</th>\n",
       "      <td>112.015806</td>\n",
       "    </tr>\n",
       "    <tr>\n",
       "      <th>min</th>\n",
       "      <td>29.000000</td>\n",
       "    </tr>\n",
       "    <tr>\n",
       "      <th>25%</th>\n",
       "      <td>77.000000</td>\n",
       "    </tr>\n",
       "    <tr>\n",
       "      <th>50%</th>\n",
       "      <td>149.000000</td>\n",
       "    </tr>\n",
       "    <tr>\n",
       "      <th>75%</th>\n",
       "      <td>273.000000</td>\n",
       "    </tr>\n",
       "    <tr>\n",
       "      <th>max</th>\n",
       "      <td>487.000000</td>\n",
       "    </tr>\n",
       "  </tbody>\n",
       "</table>\n",
       "</div>"
      ],
      "text/plain": [
       "               41\n",
       "count  105.000000\n",
       "mean   174.361905\n",
       "std    112.015806\n",
       "min     29.000000\n",
       "25%     77.000000\n",
       "50%    149.000000\n",
       "75%    273.000000\n",
       "max    487.000000"
      ]
     },
     "execution_count": 40,
     "metadata": {},
     "output_type": "execute_result"
    }
   ],
   "source": [
    "# Sumamry statistics\n",
    "\n",
    "series.describe()"
   ]
  },
  {
   "cell_type": "markdown",
   "id": "2021c544",
   "metadata": {},
   "source": [
    "Obervations:\n",
    "\n",
    " - Mean is about 174 , which we might consider our level in series\n",
    " - Standard deviation is relatively large 112 robberies\n",
    " - Percentiles along with stand deviation suggest a large spread in data\n",
    " - Large spread in this series will likely make highly accurate prediction difficult if it casused by random fluctuation"
   ]
  },
  {
   "cell_type": "code",
   "execution_count": 41,
   "id": "f0900784",
   "metadata": {},
   "outputs": [
    {
     "data": {
      "image/png": "[encoded data removed]",
      "text/plain": [
       "<Figure size 432x288 with 1 Axes>"
      ]
     },
     "metadata": {
      "needs_background": "light"
     },
     "output_type": "display_data"
    }
   ],
   "source": [
    "# Line plot\n",
    "\n",
    "series.plot()\n",
    "plt.show()"
   ]
  },
  {
   "cell_type": "markdown",
   "id": "73ec83e4",
   "metadata": {},
   "source": [
    "Observations:\n",
    "\n",
    "    - There is increasing trend of robberies over time\n",
    "    - Outlier does not seems to appear\n",
    "    - There is lot of fluctuation from year to year\n",
    "    - There are more fluctuation afrer 1971\n",
    "    - Trend means certainly the data is non-stationary and apparent in fluctuation may also contribute"
   ]
  },
  {
   "cell_type": "code",
   "execution_count": 55,
   "id": "ceeb9ac8",
   "metadata": {},
   "outputs": [
    {
     "data": {
      "image/png": "[encoded data removed]",
      "text/plain": [
       "<Figure size 432x288 with 1 Axes>"
      ]
     },
     "metadata": {
      "needs_background": "light"
     },
     "output_type": "display_data"
    },
    {
     "data": {
      "image/png": "[encoded data removed]",
      "text/plain": [
       "<Figure size 432x288 with 1 Axes>"
      ]
     },
     "metadata": {
      "needs_background": "light"
     },
     "output_type": "display_data"
    }
   ],
   "source": [
    "#Density plot\n",
    "series.hist()\n",
    "plt.show()\n",
    "series.plot(kind='kde')\n",
    "plt.show()"
   ]
  },
  {
   "cell_type": "markdown",
   "id": "a0f02e7b",
   "metadata": {},
   "source": [
    "Observations :\n",
    "\n",
    "    - Distribution is not Gaussain\n",
    "    - Distribution may be left shifted and may be exponential or a double Gaussian"
   ]
  },
  {
   "cell_type": "code",
   "execution_count": 40,
   "id": "c13b8b9a",
   "metadata": {},
   "outputs": [
    {
     "name": "stderr",
     "output_type": "stream",
     "text": [
      "C:\\Users\\kokal\\anaconda3\\lib\\site-packages\\seaborn\\_decorators.py:36: FutureWarning: Pass the following variables as keyword args: x, y. From version 0.12, the only valid positional argument will be `data`, and passing other arguments without an explicit keyword will result in an error or misinterpretation.\n",
      "  warnings.warn(\n"
     ]
    },
    {
     "data": {
      "text/plain": [
       "<AxesSubplot:xlabel='0', ylabel='1'>"
      ]
     },
     "execution_count": 40,
     "metadata": {},
     "output_type": "execute_result"
    },
    {
     "data": {
      "image/png": "[encoded data removed]",
      "text/plain": [
       "<Figure size 432x288 with 1 Axes>"
      ]
     },
     "metadata": {
      "needs_background": "light"
     },
     "output_type": "display_data"
    }
   ],
   "source": [
    "#box and whister plot\n",
    "series = pd.read_csv('dataset.csv',index_col=0,header=None,parse_dates=True,squeeze=True)\n",
    "series = series['1966':'1973']\n",
    "sns.boxplot(series.index.year,series)\n"
   ]
  },
  {
   "cell_type": "markdown",
   "id": "8a35de13",
   "metadata": {},
   "source": [
    "#### Observations\n",
    "\n",
    "    - Median Value for each year(red line) shows a trend that may not be linear\n",
    "    - Spread or middle 50% of the data diffrer but not consistenly over time\n",
    "    - THe earlier years ,perhapds the first 2, are quite diffrent from the rest of dataset\n"
   ]
  },
  {
   "cell_type": "code",
   "execution_count": 38,
   "id": "ebbc3013",
   "metadata": {},
   "outputs": [],
   "source": [
    "#Stationarity Check\n",
    "\n",
    "def adfuller_test(x):\n",
    "    from statsmodels.tsa.stattools import adfuller\n",
    "    \n",
    "    result =adfuller(x)\n",
    "\n",
    "    print('ADF Statistics: %f'%result[0])\n",
    "    print('p-value: %f'%result[1])\n",
    "    print('Critical Values')\n",
    "    for key,value in result[4].items():\n",
    "        print('\\t%s: %.3f'%(key,value))\n",
    "    \n",
    "    P_value = result[1]\n",
    "    adf_statistics = result[0]\n",
    "    critical_value = result[4]['5%']\n",
    "\n",
    "    # test at 95% confidence\n",
    "\n",
    "    if P_value<0.005 and adf_statistics < critical_value:\n",
    "        print(\"Reject Null Hypothesis\")\n",
    "        print(\"Times Series does not have a unit root,means it is a stationary series\")\n",
    "\n",
    "    else:\n",
    "        print(\"Fail to Reject Null Hypothesis\")\n",
    "        print(\"Times Series has a unit root,means it is a non-stationary series\")"
   ]
  },
  {
   "cell_type": "code",
   "execution_count": 59,
   "id": "e21ca2f5",
   "metadata": {},
   "outputs": [
    {
     "name": "stdout",
     "output_type": "stream",
     "text": [
      "ADF Statistics: 0.783043\n",
      "p-value: 0.991357\n",
      "Critical Values\n",
      "\t1%: -3.504\n",
      "\t5%: -2.894\n",
      "\t10%: -2.584\n",
      "Fail to Reject Null Hypothesis\n",
      "Times Series has a unit root,means it is a non-stationary series\n"
     ]
    }
   ],
   "source": [
    "series = pd.read_csv('dataset.csv',index_col=0,header=0,parse_dates=True)\n",
    "adfuller_test(series)"
   ]
  },
  {
   "cell_type": "markdown",
   "id": "05f7ef31",
   "metadata": {},
   "source": [
    "Observation:\n",
    "\n",
    "    -  Dataset is non-stationary and it is confirmed using ADF test.\n",
    "    -  Must use Diffrence to bring it to staitonary data set"
   ]
  },
  {
   "cell_type": "markdown",
   "id": "99b51ed9",
   "metadata": {},
   "source": [
    "#### ARIMA Models\n",
    "\n",
    "- For this project we will ARIMA models to forecast into the future"
   ]
  },
  {
   "cell_type": "code",
   "execution_count": 37,
   "id": "2f6a2e32",
   "metadata": {},
   "outputs": [],
   "source": [
    "# Manually configured ARIMA\n",
    "\n",
    "\"\"\" Analysis of time series assumes that we are wokring with a stationary time series.\n",
    "    But as per ADF statistic test we can significantly conculde that series is non stationary.\n",
    "    We can make it stationary by taking diffrencing and test to confirm if the result is stationary \"\"\"\n",
    "\n",
    "# fuction for creating diffrenced time series\n",
    "def diffrence(dataset):\n",
    "    diff= []\n",
    "    for i in range(1,len(dataset)):\n",
    "        value = dataset[i]-dataset[i-1]\n",
    "        diff.append(value)\n",
    "    \n",
    "    return (pd.Series(diff))\n",
    "\n",
    "#load data\n",
    "series = pd.read_csv('dataset.csv',index_col=0,header=None,squeeze=True,parse_dates=True)\n",
    "x = series.values\n",
    "\n",
    "#diffrence data\n",
    "stationary = diffrence(x)\n",
    "stationary.indexex = series.index[1:]\n"
   ]
  },
  {
   "cell_type": "code",
   "execution_count": 39,
   "id": "78c2e1f8",
   "metadata": {},
   "outputs": [
    {
     "name": "stdout",
     "output_type": "stream",
     "text": [
      "ADF Statistics: -3.980946\n",
      "p-value: 0.001514\n",
      "Critical Values\n",
      "\t1%: -3.503\n",
      "\t5%: -2.893\n",
      "\t10%: -2.584\n",
      "Reject Null Hypothesis\n",
      "Times Series does not have a unit root,means it is a stationary series\n"
     ]
    }
   ],
   "source": [
    "#check for stationarity\n",
    "\n",
    "adfuller_test(stationary)\n"
   ]
  },
  {
   "cell_type": "markdown",
   "id": "55e3a996",
   "metadata": {},
   "source": [
    "#### Observations:\n",
    "    -  TIme series suggest that atleast one level of diffrencing is required.\n",
    "    -  Hence our d parameter will be atleast value of 1."
   ]
  },
  {
   "cell_type": "code",
   "execution_count": 44,
   "id": "71578d7b",
   "metadata": {},
   "outputs": [
    {
     "data": {
      "image/png": "[encoded data removed]",
      "text/plain": [
       "<Figure size 432x288 with 2 Axes>"
      ]
     },
     "metadata": {
      "needs_background": "light"
     },
     "output_type": "display_data"
    }
   ],
   "source": [
    "# determining p and q parametes using ACF and PACF plots\n",
    "\n",
    "#load dataset\n",
    "series = pd.read_csv('dataset.csv',header=None,index_col=0,parse_dates=True,squeeze=True)\n",
    "\n",
    "plt.figure()\n",
    "plt.subplot(211)\n",
    "plot_acf(series,lags=50,ax = plt.gca())\n",
    "plt.subplot(212)\n",
    "plot_pacf(series,lags=50,ax = plt.gca())\n",
    "plt.show()"
   ]
  },
  {
   "cell_type": "markdown",
   "id": "8c47f296",
   "metadata": {},
   "source": [
    "#### Obervations:\n",
    "    - ACF shows significant lag for 10-11 months\n",
    "    - PACF shows significant lag for perhaps 2 months\n",
    "    - Both PACF and ACF show a drop off at some point,perhaps suggesting a mix of AR and MA\n",
    "    - A good starting point for P and q values are (0 to 2) and q - (0 to 11)"
   ]
  },
  {
   "cell_type": "code",
   "execution_count": null,
   "id": "24cfb1f2",
   "metadata": {},
   "outputs": [],
   "source": [
    "#Experimentation shows that model does not appear to be stable with non zero AR and we simplied model to ARIMA(0,1,2)"
   ]
  },
  {
   "cell_type": "code",
   "execution_count": 48,
   "id": "b6fd83e3",
   "metadata": {},
   "outputs": [
    {
     "name": "stdout",
     "output_type": "stream",
     "text": [
      "Prediction = 102.710, Expected = 125.000\n",
      "Prediction = 118.868, Expected = 155.000\n",
      "Prediction = 141.099, Expected = 190.000\n",
      "Prediction = 176.593, Expected = 236.000\n",
      "Prediction = 233.418, Expected = 189.000\n",
      "Prediction = 186.905, Expected = 174.000\n",
      "Prediction = 184.846, Expected = 178.000\n",
      "Prediction = 183.763, Expected = 136.000\n",
      "Prediction = 146.180, Expected = 161.000\n",
      "Prediction = 171.279, Expected = 171.000\n",
      "Prediction = 170.196, Expected = 149.000\n",
      "Prediction = 154.425, Expected = 184.000\n",
      "Prediction = 185.707, Expected = 155.000\n",
      "Prediction = 157.284, Expected = 276.000\n",
      "Prediction = 245.280, Expected = 224.000\n",
      "Prediction = 222.242, Expected = 213.000\n",
      "Prediction = 219.698, Expected = 279.000\n",
      "Prediction = 261.506, Expected = 268.000\n",
      "Prediction = 264.287, Expected = 287.000\n",
      "Prediction = 282.759, Expected = 238.000\n",
      "Prediction = 255.843, Expected = 213.000\n",
      "Prediction = 235.189, Expected = 257.000\n",
      "Prediction = 257.622, Expected = 293.000\n",
      "Prediction = 280.345, Expected = 212.000\n",
      "Prediction = 235.564, Expected = 246.000\n",
      "Prediction = 255.342, Expected = 353.000\n",
      "Prediction = 318.613, Expected = 339.000\n",
      "Prediction = 310.335, Expected = 308.000\n",
      "Prediction = 306.789, Expected = 247.000\n",
      "Prediction = 270.213, Expected = 257.000\n",
      "Prediction = 283.318, Expected = 322.000\n",
      "Prediction = 316.063, Expected = 298.000\n",
      "Prediction = 294.466, Expected = 273.000\n",
      "Prediction = 289.635, Expected = 312.000\n",
      "Prediction = 314.759, Expected = 249.000\n",
      "Prediction = 268.674, Expected = 286.000\n",
      "Prediction = 303.095, Expected = 279.000\n",
      "Prediction = 286.441, Expected = 309.000\n",
      "Prediction = 309.455, Expected = 401.000\n",
      "Prediction = 363.141, Expected = 309.000\n",
      "Prediction = 304.979, Expected = 328.000\n",
      "Prediction = 336.240, Expected = 353.000\n",
      "Prediction = 342.814, Expected = 354.000\n",
      "Prediction = 347.675, Expected = 327.000\n",
      "Prediction = 335.842, Expected = 324.000\n",
      "Prediction = 338.449, Expected = 285.000\n",
      "Prediction = 314.714, Expected = 243.000\n",
      "Prediction = 290.336, Expected = 241.000\n",
      "Prediction = 280.614, Expected = 287.000\n",
      "Prediction = 302.079, Expected = 355.000\n",
      "Prediction = 340.210, Expected = 460.000\n",
      "Prediction = 405.172, Expected = 364.000\n",
      "Prediction = 333.755, Expected = 487.000\n",
      "RMSE: 49.821\n"
     ]
    }
   ],
   "source": [
    "# evaluation manually configured ARIMA model\n",
    "\n",
    "#laod data\n",
    "series = pd.read_csv('dataset.csv',header=None,index_col=0,parse_dates=True,squeeze=True)\n",
    "\n",
    "#prepare data\n",
    "x = series.values\n",
    "x = x.astype('float32')\n",
    "train_size = int(len(x)*0.5)\n",
    "train,test = x[0:train_size],x[train_size:]\n",
    "\n",
    "#walk forward validation\n",
    "\n",
    "history= [x for x in train]\n",
    "predictions = []\n",
    "\n",
    "for i in range(len(test)):\n",
    "    #Predict\n",
    "    model = ARIMA(history,order=(0,1,2))\n",
    "    model_fit = model.fit(disp=0)\n",
    "    yhat = model_fit.forecast()[0]\n",
    "    predictions.append(yhat)\n",
    "    \n",
    "    #observation\n",
    "    obs=test[i]\n",
    "    history.append(obs)\n",
    "    print('Prediction = %.3f, Expected = %.3f'%(yhat,obs))\n",
    "\n",
    "#Report performance\n",
    "rmse = sqrt(mean_squared_error(test,predictions))\n",
    "print('RMSE: %.3f'%rmse)\n",
    "    \n",
    "\n",
    "\n"
   ]
  },
  {
   "cell_type": "markdown",
   "id": "99da6758",
   "metadata": {},
   "source": [
    "### Grid search ARIMA Hyperparamets\n",
    "\n",
    "There could be ARIMA configuarations that are unstable with dataset, but theere may other hyparameters that result in well performed model.\n",
    "\n",
    "WE will search for combinaiton for p,d,q values that result in best performance\n",
    "\n",
    "P: 0 to 3\n",
    "d: 0: to 3\n",
    "q: 0 to 12\n"
   ]
  },
  {
   "cell_type": "code",
   "execution_count": 22,
   "id": "ec8771d0",
   "metadata": {},
   "outputs": [],
   "source": [
    "#grid seach ARIMA parameters for time series\n",
    "\n",
    "\n",
    "#evaluate an ARIMA model for a given order (p,d,q) and return RMSE\n",
    "\n",
    "def evaluate_arima_model(x,arima_order):\n",
    "    \n",
    "    # Prepare Training data\n",
    "    x  = x.astype('float32')\n",
    "    train_size = int(len(x)*0.5)\n",
    "    train,test = x[0:train_size],x[train_size:]\n",
    "    history = [i for i in train]\n",
    "    \n",
    "    #make prediction\n",
    "    prediction = list()\n",
    "    for t in range(len(test)):\n",
    "        model = ARIMA(history,order=arima_order)\n",
    "        model_fit = model.fit(disp=0)\n",
    "        yhat = model_fit.forecast()[0]\n",
    "        prediction.append(yhat)\n",
    "        history.append(test[t])\n",
    "    \n",
    "    #Calculate RMSE\n",
    "    rmse = sqrt(mean_squared_error(test,prediction))\n",
    "    return rmse\n",
    "\n",
    "#evaluate combinations of p,d,q values for ARIMA model\n",
    "\n",
    "def evaluate_models(dataset,p_values,d_values,q_values):\n",
    "    dataset = dataset.astype('float32')\n",
    "    best_score,best_config = float(\"inf\"), None\n",
    "    for p in p_values:\n",
    "        for d in d_values:\n",
    "            for q in q_values:\n",
    "                order = (p,d,q)\n",
    "                try:\n",
    "                    rmse = evaluate_arima_model(dataset,order)\n",
    "                    if rmse<best_score:\n",
    "                        best_score,best_config = rmse, order\n",
    "                    print(\"ARIMA %s RMSE = %.3f\"%(order,rmse))\n",
    "                except:\n",
    "                    continue\n",
    "    \n",
    "    print(\"> Best ARIMA%s RMSE = %.3f\"%(best_config,best_score))\n",
    "    \n",
    "\n",
    "#load dataset\n",
    "series = pd.read_csv('dataset.csv',header=None,index_col=0,parse_dates=True,squeeze=True)\n",
    "\n",
    "\n",
    "\n"
   ]
  },
  {
   "cell_type": "code",
   "execution_count": 23,
   "id": "fa9e690d",
   "metadata": {},
   "outputs": [
    {
     "name": "stdout",
     "output_type": "stream",
     "text": [
      "ARIMA (0, 0, 0) RMSE = 154.962\n",
      "ARIMA (0, 0, 1) RMSE = 99.360\n",
      "ARIMA (0, 0, 2) RMSE = 89.842\n",
      "ARIMA (0, 0, 3) RMSE = 72.274\n",
      "ARIMA (0, 1, 0) RMSE = 51.827\n",
      "ARIMA (0, 1, 1) RMSE = 50.417\n",
      "ARIMA (0, 1, 2) RMSE = 49.821\n",
      "ARIMA (0, 1, 3) RMSE = 51.003\n",
      "ARIMA (0, 2, 0) RMSE = 80.804\n",
      "ARIMA (0, 2, 1) RMSE = 52.456\n",
      "ARIMA (0, 2, 2) RMSE = 51.154\n",
      "ARIMA (0, 2, 3) RMSE = 50.934\n",
      "ARIMA (1, 0, 0) RMSE = 53.243\n",
      "ARIMA (1, 1, 0) RMSE = 50.582\n",
      "ARIMA (1, 1, 1) RMSE = 49.069\n",
      "ARIMA (1, 2, 0) RMSE = 68.672\n",
      "ARIMA (2, 0, 0) RMSE = 52.032\n",
      "ARIMA (2, 1, 0) RMSE = 50.761\n",
      "ARIMA (2, 1, 1) RMSE = 50.407\n",
      "ARIMA (2, 2, 0) RMSE = 61.384\n",
      "ARIMA (2, 2, 1) RMSE = 51.388\n",
      "ARIMA (3, 0, 0) RMSE = 52.235\n",
      "ARIMA (3, 1, 0) RMSE = 51.901\n",
      "ARIMA (3, 1, 1) RMSE = 50.295\n",
      "ARIMA (3, 1, 2) RMSE = 51.058\n",
      "ARIMA (3, 2, 0) RMSE = 60.411\n",
      "ARIMA (3, 2, 1) RMSE = 52.830\n",
      "> Best ARIMA(1, 1, 1) RMSE = 49.069\n"
     ]
    }
   ],
   "source": [
    "#evaluate parameters\n",
    "p_values = range(0,4)\n",
    "d_values = range(0,4)\n",
    "q_values = range(0,4)\n",
    "\n",
    "evaluate_models(series.values,p_values,d_values,q_values)\n",
    "    "
   ]
  },
  {
   "cell_type": "code",
   "execution_count": 16,
   "id": "5d1bf636",
   "metadata": {},
   "outputs": [],
   "source": [
    "### we will use auto_arima to find optimized paramets\n",
    "\n",
    "from pmdarima import auto_arima\n",
    "\n",
    "ar = auto_arima(series,start_p=0,start_q=0,max_p=4,max_q=12,d=1)"
   ]
  },
  {
   "cell_type": "code",
   "execution_count": 17,
   "id": "60b8c022",
   "metadata": {},
   "outputs": [
    {
     "data": {
      "text/html": [
       "<table class=\"simpletable\">\n",
       "<caption>SARIMAX Results</caption>\n",
       "<tr>\n",
       "  <th>Dep. Variable:</th>           <td>y</td>        <th>  No. Observations:  </th>    <td>106</td>  \n",
       "</tr>\n",
       "<tr>\n",
       "  <th>Model:</th>           <td>SARIMAX(1, 1, 1)</td> <th>  Log Likelihood     </th> <td>-523.847</td>\n",
       "</tr>\n",
       "<tr>\n",
       "  <th>Date:</th>            <td>Sun, 06 Mar 2022</td> <th>  AIC                </th> <td>1055.694</td>\n",
       "</tr>\n",
       "<tr>\n",
       "  <th>Time:</th>                <td>13:50:05</td>     <th>  BIC                </th> <td>1066.310</td>\n",
       "</tr>\n",
       "<tr>\n",
       "  <th>Sample:</th>                  <td>0</td>        <th>  HQIC               </th> <td>1059.996</td>\n",
       "</tr>\n",
       "<tr>\n",
       "  <th></th>                      <td> - 106</td>      <th>                     </th>     <td> </td>   \n",
       "</tr>\n",
       "<tr>\n",
       "  <th>Covariance Type:</th>        <td>opg</td>       <th>                     </th>     <td> </td>   \n",
       "</tr>\n",
       "</table>\n",
       "<table class=\"simpletable\">\n",
       "<tr>\n",
       "      <td></td>         <th>coef</th>     <th>std err</th>      <th>z</th>      <th>P>|z|</th>  <th>[0.025</th>    <th>0.975]</th>  \n",
       "</tr>\n",
       "<tr>\n",
       "  <th>intercept</th> <td>    1.6247</td> <td>    0.493</td> <td>    3.294</td> <td> 0.001</td> <td>    0.658</td> <td>    2.592</td>\n",
       "</tr>\n",
       "<tr>\n",
       "  <th>ar.L1</th>     <td>    0.5265</td> <td>    0.111</td> <td>    4.745</td> <td> 0.000</td> <td>    0.309</td> <td>    0.744</td>\n",
       "</tr>\n",
       "<tr>\n",
       "  <th>ma.L1</th>     <td>   -0.9386</td> <td>    0.054</td> <td>  -17.248</td> <td> 0.000</td> <td>   -1.045</td> <td>   -0.832</td>\n",
       "</tr>\n",
       "<tr>\n",
       "  <th>sigma2</th>    <td> 1248.6231</td> <td>  147.698</td> <td>    8.454</td> <td> 0.000</td> <td>  959.140</td> <td> 1538.106</td>\n",
       "</tr>\n",
       "</table>\n",
       "<table class=\"simpletable\">\n",
       "<tr>\n",
       "  <th>Ljung-Box (L1) (Q):</th>     <td>0.15</td>  <th>  Jarque-Bera (JB):  </th> <td>49.39</td>\n",
       "</tr>\n",
       "<tr>\n",
       "  <th>Prob(Q):</th>                <td>0.70</td>  <th>  Prob(JB):          </th> <td>0.00</td> \n",
       "</tr>\n",
       "<tr>\n",
       "  <th>Heteroskedasticity (H):</th> <td>10.09</td> <th>  Skew:              </th> <td>1.21</td> \n",
       "</tr>\n",
       "<tr>\n",
       "  <th>Prob(H) (two-sided):</th>    <td>0.00</td>  <th>  Kurtosis:          </th> <td>5.33</td> \n",
       "</tr>\n",
       "</table><br/><br/>Warnings:<br/>[1] Covariance matrix calculated using the outer product of gradients (complex-step)."
      ],
      "text/plain": [
       "<class 'statsmodels.iolib.summary.Summary'>\n",
       "\"\"\"\n",
       "                               SARIMAX Results                                \n",
       "==============================================================================\n",
       "Dep. Variable:                      y   No. Observations:                  106\n",
       "Model:               SARIMAX(1, 1, 1)   Log Likelihood                -523.847\n",
       "Date:                Sun, 06 Mar 2022   AIC                           1055.694\n",
       "Time:                        13:50:05   BIC                           1066.310\n",
       "Sample:                             0   HQIC                          1059.996\n",
       "                                - 106                                         \n",
       "Covariance Type:                  opg                                         \n",
       "==============================================================================\n",
       "                 coef    std err          z      P>|z|      [0.025      0.975]\n",
       "------------------------------------------------------------------------------\n",
       "intercept      1.6247      0.493      3.294      0.001       0.658       2.592\n",
       "ar.L1          0.5265      0.111      4.745      0.000       0.309       0.744\n",
       "ma.L1         -0.9386      0.054    -17.248      0.000      -1.045      -0.832\n",
       "sigma2      1248.6231    147.698      8.454      0.000     959.140    1538.106\n",
       "===================================================================================\n",
       "Ljung-Box (L1) (Q):                   0.15   Jarque-Bera (JB):                49.39\n",
       "Prob(Q):                              0.70   Prob(JB):                         0.00\n",
       "Heteroskedasticity (H):              10.09   Skew:                             1.21\n",
       "Prob(H) (two-sided):                  0.00   Kurtosis:                         5.33\n",
       "===================================================================================\n",
       "\n",
       "Warnings:\n",
       "[1] Covariance matrix calculated using the outer product of gradients (complex-step).\n",
       "\"\"\""
      ]
     },
     "execution_count": 17,
     "metadata": {},
     "output_type": "execute_result"
    }
   ],
   "source": [
    "ar.summary()"
   ]
  },
  {
   "cell_type": "code",
   "execution_count": 26,
   "id": "cf91e858",
   "metadata": {},
   "outputs": [
    {
     "data": {
      "image/png": "[encoded data removed]",
      "text/plain": [
       "<Figure size 432x288 with 1 Axes>"
      ]
     },
     "metadata": {
      "needs_background": "light"
     },
     "output_type": "display_data"
    },
    {
     "data": {
      "image/png": "[encoded data removed]",
      "text/plain": [
       "<Figure size 432x288 with 1 Axes>"
      ]
     },
     "metadata": {
      "needs_background": "light"
     },
     "output_type": "display_data"
    }
   ],
   "source": [
    "#lets fit the model with order(1,1,1)\n",
    "\n",
    "#load data set\n",
    "series = pd.read_csv('dataset.csv',header=None,index_col=0,parse_dates=True,squeeze=True)\n",
    "\n",
    "#prepare data set\n",
    "x = series.values\n",
    "x=x.astype('float32')\n",
    "train_size = int(len(x)*0.5)\n",
    "train,test = x[0:train_size],x[train_size:]\n",
    "\n",
    "\n",
    "#walk forward validation\n",
    "history = [x for x in train]\n",
    "prediction = []\n",
    "for i in range(len(test)):\n",
    "    #predict\n",
    "    model = ARIMA(history,order=(1,1,1))\n",
    "    model_fit = model.fit(disp=0)\n",
    "    yhat = model_fit.forecast()[0]\n",
    "    prediction.append(yhat)\n",
    "    #observation\n",
    "    obs = test[i]\n",
    "    history.append(obs)\n",
    "    \n",
    "# Review Residual errors\n",
    "\n",
    "\"\"\" A good final check of a model is to review residual forecast errors. Ideally the distribution of residual error should be\n",
    "gausian with a zero mean\"\"\"\n",
    "\n",
    "#errors\n",
    "residuals = [test[i]-prediction[i] for i in range(len(test))]\n",
    "residuals = pd.DataFrame(residuals)\n",
    "\n",
    "residuals.hist()\n",
    "plt.show()\n",
    "\n",
    "residuals.plot(kind='kde')\n",
    "plt.show()\n"
   ]
  },
  {
   "cell_type": "markdown",
   "id": "32cd2919",
   "metadata": {},
   "source": [
    "##### Observation:\n",
    "Graph suggest Gaussian like distribution with a longer right tail. this perhaps suggest that predictions are biased and in this case a power based transformation of the raw data before modeliing might be helpful"
   ]
  },
  {
   "cell_type": "code",
   "execution_count": 27,
   "id": "b6847211",
   "metadata": {},
   "outputs": [
    {
     "data": {
      "image/png": "[encoded data removed]",
      "text/plain": [
       "<Figure size 432x288 with 1 Axes>"
      ]
     },
     "metadata": {
      "needs_background": "light"
     },
     "output_type": "display_data"
    },
    {
     "data": {
      "image/png": "[encoded data removed]",
      "text/plain": [
       "<Figure size 432x288 with 1 Axes>"
      ]
     },
     "metadata": {
      "needs_background": "light"
     },
     "output_type": "display_data"
    }
   ],
   "source": [
    "# ACF and PACF plots of forecasr residual errors\n",
    "plot_acf(residuals,lags=25)\n",
    "plt.show\n",
    "plot_pacf(residuals,lags=25)\n",
    "plt.show()"
   ]
  },
  {
   "cell_type": "markdown",
   "id": "08cec6c6",
   "metadata": {},
   "source": [
    "#### Observation:\n",
    "The result suggest that little correlation is present in the residual of the time series"
   ]
  },
  {
   "cell_type": "code",
   "execution_count": 29,
   "id": "d5a05440",
   "metadata": {},
   "outputs": [
    {
     "name": "stdout",
     "output_type": "stream",
     "text": [
      "Lambda 0.26006033924618177\n"
     ]
    },
    {
     "data": {
      "image/png": "[encoded data removed]",
      "text/plain": [
       "<Figure size 432x288 with 1 Axes>"
      ]
     },
     "metadata": {
      "needs_background": "light"
     },
     "output_type": "display_data"
    },
    {
     "data": {
      "image/png": "[encoded data removed]",
      "text/plain": [
       "<Figure size 432x288 with 1 Axes>"
      ]
     },
     "metadata": {
      "needs_background": "light"
     },
     "output_type": "display_data"
    },
    {
     "data": {
      "image/png": "[encoded data removed]",
      "text/plain": [
       "<Figure size 432x288 with 1 Axes>"
      ]
     },
     "metadata": {
      "needs_background": "light"
     },
     "output_type": "display_data"
    }
   ],
   "source": [
    "# Box- Cox Transformed Dataset\n",
    "\n",
    "#Lets perform log tranform of the data and generate some plots to review\n",
    "\n",
    "from scipy.stats import boxcox\n",
    "from statsmodels.graphics.gofplots import qqplot\n",
    "\n",
    "#load data set\n",
    "series = pd.read_csv('dataset.csv',header=None,index_col=0,parse_dates=True,squeeze=True)\n",
    "x= series.values\n",
    "\n",
    "transformed,lam = boxcox(x)\n",
    "print('Lambda',lam)\n",
    "\n",
    "#line plot\n",
    "plt.plot(transformed)\n",
    "plt.show()\n",
    "\n",
    "#histogram\n",
    "plt.hist(transformed)\n",
    "plt.show()\n",
    "\n",
    "#qq plot\n",
    "qqplot(transformed,line='r')\n",
    "plt.show()\n"
   ]
  },
  {
   "cell_type": "markdown",
   "id": "925059e4",
   "metadata": {},
   "source": [
    "##### observation:\n",
    "\n",
    "    - Large observation have been removed from the line plot\n",
    "    - Histogram shows flatter and more unfirom distribution of values\n",
    "    - QQ plot is reasonable and still not a perfect Gaussian distribution\n",
    " "
   ]
  },
  {
   "cell_type": "code",
   "execution_count": 30,
   "id": "2c994e2e",
   "metadata": {},
   "outputs": [],
   "source": [
    "#inverse box cox transformation\n",
    "from math import log, exp\n",
    "def boxcox_inverse(value,lam):\n",
    "    if lam == 0:\n",
    "        return(value)\n",
    "    return exp(log(lam* value + 1)/lam)"
   ]
  },
  {
   "cell_type": "code",
   "execution_count": 37,
   "id": "e0ffa24a",
   "metadata": {},
   "outputs": [
    {
     "name": "stdout",
     "output_type": "stream",
     "text": [
      "Prediction 102.716 Expected 125.000\n",
      "Prediction 119.124 Expected 155.000\n",
      "Prediction 152.383 Expected 190.000\n",
      "Prediction 178.041 Expected 236.000\n",
      "Prediction 212.054 Expected 189.000\n",
      "Prediction 185.154 Expected 174.000\n",
      "Prediction 176.503 Expected 178.000\n",
      "Prediction 180.499 Expected 136.000\n",
      "Prediction 151.629 Expected 161.000\n",
      "Prediction 169.479 Expected 171.000\n",
      "Prediction 177.400 Expected 149.000\n",
      "Prediction 162.505 Expected 184.000\n",
      "Prediction 187.327 Expected 155.000\n",
      "Prediction 168.373 Expected 276.000\n",
      "Prediction 246.940 Expected 224.000\n",
      "Prediction 220.389 Expected 213.000\n",
      "Prediction 215.368 Expected 279.000\n",
      "Prediction 258.197 Expected 268.000\n",
      "Prediction 256.546 Expected 287.000\n",
      "Prediction 272.017 Expected 238.000\n",
      "Prediction 245.039 Expected 213.000\n",
      "Prediction 230.033 Expected 257.000\n",
      "Prediction 259.574 Expected 293.000\n",
      "Prediction 284.914 Expected 212.000\n",
      "Prediction 236.520 Expected 246.000\n",
      "Prediction 258.950 Expected 353.000\n",
      "Prediction 325.512 Expected 339.000\n",
      "Prediction 324.017 Expected 308.000\n",
      "Prediction 309.872 Expected 247.000\n",
      "Prediction 274.163 Expected 257.000\n",
      "Prediction 281.050 Expected 322.000\n",
      "Prediction 323.092 Expected 298.000\n",
      "Prediction 312.050 Expected 273.000\n",
      "Prediction 298.143 Expected 312.000\n",
      "Prediction 323.756 Expected 249.000\n",
      "Prediction 285.913 Expected 286.000\n",
      "Prediction 309.895 Expected 279.000\n",
      "Prediction 306.740 Expected 309.000\n",
      "Prediction 326.727 Expected 401.000\n",
      "Prediction 383.978 Expected 309.000\n",
      "Prediction 334.319 Expected 328.000\n",
      "Prediction 346.902 Expected 353.000\n",
      "Prediction 364.045 Expected 354.000\n",
      "Prediction 367.380 Expected 327.000\n",
      "Prediction 353.484 Expected 324.000\n",
      "Prediction 352.829 Expected 285.000\n",
      "Prediction 328.649 Expected 243.000\n",
      "Prediction 297.206 Expected 241.000\n",
      "Prediction 291.382 Expected 287.000\n",
      "Prediction 323.261 Expected 355.000\n",
      "Prediction 369.767 Expected 460.000\n",
      "Prediction 438.158 Expected 364.000\n",
      "Prediction 383.042 Expected 487.000\n",
      "RMSE 46.937\n"
     ]
    }
   ],
   "source": [
    "# lets re-evaluate the ARIMA (1,1,1) model with box cox tranform\n",
    "\n",
    "#load data set\n",
    "series = pd.read_csv('dataset.csv',header=None,index_col=0,parse_dates=True,squeeze=True)\n",
    "\n",
    "#prepare data set\n",
    "x = series.values\n",
    "x=x.astype('float32')\n",
    "train_size = int(len(x)*0.5)\n",
    "train,test = x[0:train_size],x[train_size:]\n",
    "\n",
    "\n",
    "#walk forward validation\n",
    "history = [ x for x in train]\n",
    "predictions = []\n",
    "\n",
    "for i in range(len(test)):\n",
    "    #tranform\n",
    "    transformed,lam = boxcox(history)\n",
    "    if lam <-5:\n",
    "        transformed,lam = history,1\n",
    "    #predict\n",
    "    model = ARIMA(transformed,order=(1,1,1))\n",
    "    model_fit = model.fit(disp=0)\n",
    "    yhat = model_fit.forecast()[0]\n",
    "    #inverted boxcox\n",
    "    yhat = boxcox_inverse(yhat,lam)\n",
    "    predictions.append(yhat)\n",
    "    #observation\n",
    "    obs = test[i]\n",
    "    history.append(obs)\n",
    "    print(\"Prediction %.3f Expected %.3f\"%(yhat,obs))\n",
    "\n",
    "#report performance\n",
    "rmse = sqrt(mean_squared_error(test,predictions))\n",
    "print('RMSE %.3f'%rmse)"
   ]
  },
  {
   "cell_type": "markdown",
   "id": "64c8cbae",
   "metadata": {},
   "source": [
    "##### We will use this model with box-cox transform as final model"
   ]
  },
  {
   "cell_type": "code",
   "execution_count": 39,
   "id": "8ae95acc",
   "metadata": {},
   "outputs": [],
   "source": [
    "#finalize model ans save to file to work around\n",
    "\n",
    "#monkey patch around bug in ARIMA class\n",
    "\n",
    "def __getnewargs__(self):\n",
    "    return((self.endog),(self.k_lags,self.k_diff,self.k_ma))\n",
    "\n",
    "ARIMA.__getnewargs__=__getnewargs__\n"
   ]
  },
  {
   "cell_type": "code",
   "execution_count": 40,
   "id": "6cd9ddd5",
   "metadata": {},
   "outputs": [],
   "source": [
    "#Load data\n",
    "\n",
    "series = pd.read_csv('dataset.csv',header=None,index_col=0,parse_dates=True,squeeze=True)\n",
    "\n",
    "#prepare dataset\n",
    "x = series.values\n",
    "x=x.astype('float32')\n",
    "\n",
    "#tranform data\n",
    "transformed,lam = boxcox(x)\n",
    "\n",
    "#fit model\n",
    "model = ARIMA(transformed,order=(1,1,1))\n",
    "model_fit = model.fit(disp=0)\n",
    "\n",
    "#save model\n",
    "model_fit.save('model.pkl')\n",
    "np.save('model_lambda.npy',[lam])\n"
   ]
  },
  {
   "cell_type": "markdown",
   "id": "3f66b5ea",
   "metadata": {},
   "source": [
    "###### model.pk : This ARIMA resultobject and included the coefficients and all other internal data returned when fitting model\n",
    "\n",
    "##### model_lambda : This is the lambda values stores as numpy array\n"
   ]
  },
  {
   "cell_type": "code",
   "execution_count": 44,
   "id": "8bd0ec43",
   "metadata": {},
   "outputs": [
    {
     "name": "stdout",
     "output_type": "stream",
     "text": [
      "Prediction 459.8003358240795\n"
     ]
    }
   ],
   "source": [
    "# Model Validation\n",
    "\n",
    "#load the finalized model and make a prediction\n",
    "\n",
    "model_fit = ARIMAResults.load('model.pkl')\n",
    "lam = np.load('model_lambda.npy')\n",
    "\n",
    "yhat = model_fit.forecast()[0]\n",
    "yhat = boxcox_inverse(yhat,lam)\n",
    "print(\"Prediction\",yhat)"
   ]
  },
  {
   "cell_type": "markdown",
   "id": "e6bdc0e4",
   "metadata": {},
   "source": [
    "### Validate Model\n",
    "\n",
    "There are two ways we might proceed\n",
    "\n",
    "    -Load the model and use it to forecast the next 12 months. The forecast beyond the first one or two months \n",
    "      will quickly start to degrade in skill\n",
    "      \n",
    "    -Load the model and use it in rolling forecast manner,updating the transform and model for each time step. \n",
    "    \n",
    " Note: The second method is prefered as this model is used in practice as it would achieve best performance"
   ]
  },
  {
   "cell_type": "code",
   "execution_count": 63,
   "id": "3dfc393f",
   "metadata": {},
   "outputs": [],
   "source": [
    "# Load and prepare datasets\n",
    "\n",
    "dataset = pd.read_csv('dataset.csv',header=None,index_col=0,parse_dates=True,squeeze=True)\n",
    "x = dataset.values.astype('float32')\n",
    "history = [i for i in x]\n",
    "\n",
    "validation = pd.read_csv('validation.csv',header=None,index_col=0,parse_dates = True,squeeze=True)\n",
    "y= validation.values.astype('float32')\n"
   ]
  },
  {
   "cell_type": "code",
   "execution_count": 64,
   "id": "a7ff6793",
   "metadata": {},
   "outputs": [],
   "source": [
    "#load model\n",
    "model_fit = ARIMAResults.load('model.pkl')\n",
    "lam = np.load('model_lambda.npy')"
   ]
  },
  {
   "cell_type": "code",
   "execution_count": 65,
   "id": "49f80fe4",
   "metadata": {},
   "outputs": [
    {
     "name": "stdout",
     "output_type": "stream",
     "text": [
      "Predicted = 459.800, Expected = 452.000\n"
     ]
    }
   ],
   "source": [
    "#make a first prediction\n",
    "prediction = []\n",
    "yhat = model_fit.forecast()[0]\n",
    "yhat = boxcox_inverse(yhat,lam)\n",
    "prediction.append(yhat)\n",
    "print('Predicted = %.3f, Expected = %.3f' %(yhat,y[0]))"
   ]
  },
  {
   "cell_type": "code",
   "execution_count": 66,
   "id": "7155f4b0",
   "metadata": {},
   "outputs": [
    {
     "name": "stdout",
     "output_type": "stream",
     "text": [
      "Predicted = 452.039, Expected = 391.000\n",
      "Predicted = 386.236, Expected = 500.000\n",
      "Predicted = 475.822, Expected = 451.000\n",
      "Predicted = 446.416, Expected = 375.000\n",
      "Predicted = 413.004, Expected = 372.000\n",
      "Predicted = 410.175, Expected = 302.000\n",
      "Predicted = 355.960, Expected = 316.000\n",
      "Predicted = 357.923, Expected = 398.000\n",
      "Predicted = 400.394, Expected = 394.000\n",
      "Predicted = 393.106, Expected = 431.000\n",
      "Predicted = 423.613, Expected = 431.000\n",
      "RMSE: 58.13973191986161\n"
     ]
    },
    {
     "data": {
      "image/png": "[encoded data removed]",
      "text/plain": [
       "<Figure size 432x288 with 1 Axes>"
      ]
     },
     "metadata": {
      "needs_background": "light"
     },
     "output_type": "display_data"
    }
   ],
   "source": [
    "# rolling forecast\n",
    "for i in range(1,len(y)):\n",
    "    # transform\n",
    "    tranform,lam = boxcox(history)\n",
    "    if lam<-5:\n",
    "        tranform,lam = history,1\n",
    "    \n",
    "    #predict\n",
    "    model = ARIMA(tranform,order=(0,1,2))\n",
    "    model_fit = model.fit(disp=0)\n",
    "    yhat = model_fit.forecast()[0]\n",
    "    #invert box cox\n",
    "    yhat = boxcox_inverse(yhat,lam)\n",
    "    prediction.append(yhat)\n",
    "    #observation\n",
    "    obs=y[i]\n",
    "    history.append(obs)\n",
    "    print('Predicted = %.3f, Expected = %.3f' %(yhat,obs))\n",
    "\n",
    "# report performance\n",
    "rmse = sqrt(mean_squared_error(y,prediction))\n",
    "print('RMSE:', rmse)\n",
    "\n",
    "plt.plot(y)\n",
    "plt.plot(prediction,color='r')\n",
    "plt.show()"
   ]
  },
  {
   "cell_type": "code",
   "execution_count": null,
   "id": "4b630037",
   "metadata": {},
   "outputs": [],
   "source": []
  }
 ],
 "metadata": {
  "kernelspec": {
   "display_name": "Python 3",
   "language": "python",
   "name": "python3"
  },
  "language_info": {
   "codemirror_mode": {
    "name": "ipython",
    "version": 3
   },
   "file_extension": ".py",
   "mimetype": "text/x-python",
   "name": "python",
   "nbconvert_exporter": "python",
   "pygments_lexer": "ipython3",
   "version": "3.8.8"
  }
 },
 "nbformat": 4,
 "nbformat_minor": 5
}
